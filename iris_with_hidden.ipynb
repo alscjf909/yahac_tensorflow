{
 "metadata": {
  "language_info": {
   "codemirror_mode": {
    "name": "ipython",
    "version": 3
   },
   "file_extension": ".py",
   "mimetype": "text/x-python",
   "name": "python",
   "nbconvert_exporter": "python",
   "pygments_lexer": "ipython3",
   "version": "3.7.7-final"
  },
  "orig_nbformat": 2,
  "kernelspec": {
   "name": "python37764bityahacconda48b7dfdddcbb4bafbaa7a551ffe8ffb3",
   "display_name": "Python 3.7.7 64-bit ('yahac': conda)"
  }
 },
 "nbformat": 4,
 "nbformat_minor": 2,
 "cells": [
  {
   "cell_type": "markdown",
   "metadata": {},
   "source": [
    "## 아이리스 품종 분류"
   ]
  },
  {
   "cell_type": "markdown",
   "metadata": {},
   "source": [
    "* github csv url:https://raw.githubusercontent.com/backdew/tensorflow1/master/csv/iris.csv"
   ]
  },
  {
   "cell_type": "code",
   "execution_count": 7,
   "metadata": {},
   "outputs": [],
   "source": [
    "# 라이브러리 사용\n",
    "import tensorflow as tf\n",
    "import pandas as pd"
   ]
  },
  {
   "cell_type": "code",
   "execution_count": 8,
   "metadata": {},
   "outputs": [
    {
     "output_type": "execute_result",
     "data": {
      "text/plain": "   꽃잎길이  꽃잎폭  꽃받침길이  꽃받침폭      품종\n0   5.1  3.5    1.4   0.2  setosa\n1   4.9  3.0    1.4   0.2  setosa\n2   4.7  3.2    1.3   0.2  setosa\n3   4.6  3.1    1.5   0.2  setosa\n4   5.0  3.6    1.4   0.2  setosa",
      "text/html": "<div>\n<style scoped>\n    .dataframe tbody tr th:only-of-type {\n        vertical-align: middle;\n    }\n\n    .dataframe tbody tr th {\n        vertical-align: top;\n    }\n\n    .dataframe thead th {\n        text-align: right;\n    }\n</style>\n<table border=\"1\" class=\"dataframe\">\n  <thead>\n    <tr style=\"text-align: right;\">\n      <th></th>\n      <th>꽃잎길이</th>\n      <th>꽃잎폭</th>\n      <th>꽃받침길이</th>\n      <th>꽃받침폭</th>\n      <th>품종</th>\n    </tr>\n  </thead>\n  <tbody>\n    <tr>\n      <th>0</th>\n      <td>5.1</td>\n      <td>3.5</td>\n      <td>1.4</td>\n      <td>0.2</td>\n      <td>setosa</td>\n    </tr>\n    <tr>\n      <th>1</th>\n      <td>4.9</td>\n      <td>3.0</td>\n      <td>1.4</td>\n      <td>0.2</td>\n      <td>setosa</td>\n    </tr>\n    <tr>\n      <th>2</th>\n      <td>4.7</td>\n      <td>3.2</td>\n      <td>1.3</td>\n      <td>0.2</td>\n      <td>setosa</td>\n    </tr>\n    <tr>\n      <th>3</th>\n      <td>4.6</td>\n      <td>3.1</td>\n      <td>1.5</td>\n      <td>0.2</td>\n      <td>setosa</td>\n    </tr>\n    <tr>\n      <th>4</th>\n      <td>5.0</td>\n      <td>3.6</td>\n      <td>1.4</td>\n      <td>0.2</td>\n      <td>setosa</td>\n    </tr>\n  </tbody>\n</table>\n</div>"
     },
     "metadata": {},
     "execution_count": 8
    }
   ],
   "source": [
    "# 1.과거의 데이터를 준비합니다.\n",
    "파일경로 = 'https://raw.githubusercontent.com/blackdew/tensorflow1/master/csv/iris.csv'\n",
    "아이리스 = pd.read_csv(파일경로)\n",
    "아이리스.head()"
   ]
  },
  {
   "cell_type": "code",
   "execution_count": 9,
   "metadata": {},
   "outputs": [
    {
     "output_type": "execute_result",
     "data": {
      "text/plain": "   꽃잎길이  꽃잎폭  꽃받침길이  꽃받침폭  품종_setosa  품종_versicolor  품종_virginica\n0   5.1  3.5    1.4   0.2          1              0             0\n1   4.9  3.0    1.4   0.2          1              0             0\n2   4.7  3.2    1.3   0.2          1              0             0\n3   4.6  3.1    1.5   0.2          1              0             0\n4   5.0  3.6    1.4   0.2          1              0             0",
      "text/html": "<div>\n<style scoped>\n    .dataframe tbody tr th:only-of-type {\n        vertical-align: middle;\n    }\n\n    .dataframe tbody tr th {\n        vertical-align: top;\n    }\n\n    .dataframe thead th {\n        text-align: right;\n    }\n</style>\n<table border=\"1\" class=\"dataframe\">\n  <thead>\n    <tr style=\"text-align: right;\">\n      <th></th>\n      <th>꽃잎길이</th>\n      <th>꽃잎폭</th>\n      <th>꽃받침길이</th>\n      <th>꽃받침폭</th>\n      <th>품종_setosa</th>\n      <th>품종_versicolor</th>\n      <th>품종_virginica</th>\n    </tr>\n  </thead>\n  <tbody>\n    <tr>\n      <th>0</th>\n      <td>5.1</td>\n      <td>3.5</td>\n      <td>1.4</td>\n      <td>0.2</td>\n      <td>1</td>\n      <td>0</td>\n      <td>0</td>\n    </tr>\n    <tr>\n      <th>1</th>\n      <td>4.9</td>\n      <td>3.0</td>\n      <td>1.4</td>\n      <td>0.2</td>\n      <td>1</td>\n      <td>0</td>\n      <td>0</td>\n    </tr>\n    <tr>\n      <th>2</th>\n      <td>4.7</td>\n      <td>3.2</td>\n      <td>1.3</td>\n      <td>0.2</td>\n      <td>1</td>\n      <td>0</td>\n      <td>0</td>\n    </tr>\n    <tr>\n      <th>3</th>\n      <td>4.6</td>\n      <td>3.1</td>\n      <td>1.5</td>\n      <td>0.2</td>\n      <td>1</td>\n      <td>0</td>\n      <td>0</td>\n    </tr>\n    <tr>\n      <th>4</th>\n      <td>5.0</td>\n      <td>3.6</td>\n      <td>1.4</td>\n      <td>0.2</td>\n      <td>1</td>\n      <td>0</td>\n      <td>0</td>\n    </tr>\n  </tbody>\n</table>\n</div>"
     },
     "metadata": {},
     "execution_count": 9
    }
   ],
   "source": [
    "# 원핫인코딩\n",
    "인코딩 = pd.get_dummies(아이리스) #신기방기 행복\n",
    "인코딩.head()"
   ]
  },
  {
   "cell_type": "code",
   "execution_count": 10,
   "metadata": {
    "tags": []
   },
   "outputs": [
    {
     "output_type": "stream",
     "name": "stdout",
     "text": "(150, 4) (150, 3)\n"
    }
   ],
   "source": [
    "# 독립변수, 종속변수\n",
    "독립 = 인코딩[['꽃잎길이', '꽃잎폭', '꽃받침길이', '꽃받침폭']]\n",
    "종속 = 인코딩[['품종_setosa', '품종_versicolor', '품종_virginica']]\n",
    "print(독립.shape, 종속.shape)"
   ]
  },
  {
   "cell_type": "code",
   "execution_count": 11,
   "metadata": {
    "tags": []
   },
   "outputs": [],
   "source": [
    "# 2. 모델의 구조를 만듭니다.\n",
    "X = tf.keras.layers.Input(shape=[4])\n",
    "Y = tf.keras.layers.Dense(3, activation = 'softmax')(X)\n",
    "model = tf.keras.models.Model(X, Y)\n",
    "model.compile(loss='categorical_crossentropy',metrics=['accuracy'])"
   ]
  },
  {
   "cell_type": "code",
   "execution_count": 20,
   "metadata": {},
   "outputs": [],
   "source": [
    "X = tf.keras.layers.Input(shape=[4])\n",
    "H = tf.keras.layers.Dense(8, activation=\"sigmoid\")(X)\n",
    "H = tf.keras.layers.Dense(8, activation=\"sigmoid\")(H)\n",
    "H = tf.keras.layers.Dense(8, activation=\"sigmoid\")(H)\n",
    "Y = tf.keras.layers.Dense(3, activation='softmax')(H)\n",
    "model = tf.keras.models.Model(X, Y)\n",
    "model.compile(loss='categorical_crossentropy',\n",
    "              metrics=['accuracy'])"
   ]
  },
  {
   "cell_type": "code",
   "execution_count": 24,
   "metadata": {
    "tags": []
   },
   "outputs": [
    {
     "output_type": "stream",
     "name": "stdout",
     "text": "Train on 150 samples\nEpoch 1/10\n150/150 [==============================] - 0s 73us/sample - loss: 0.0429 - accuracy: 0.9867\nEpoch 2/10\n150/150 [==============================] - 0s 100us/sample - loss: 0.0471 - accuracy: 0.9867\nEpoch 3/10\n150/150 [==============================] - 0s 73us/sample - loss: 0.0434 - accuracy: 0.9867\nEpoch 4/10\n150/150 [==============================] - 0s 86us/sample - loss: 0.0466 - accuracy: 0.9867\nEpoch 5/10\n150/150 [==============================] - 0s 173us/sample - loss: 0.0444 - accuracy: 0.9867\nEpoch 6/10\n150/150 [==============================] - 0s 166us/sample - loss: 0.0481 - accuracy: 0.9867\nEpoch 7/10\n150/150 [==============================] - 0s 66us/sample - loss: 0.0444 - accuracy: 0.9867\nEpoch 8/10\n150/150 [==============================] - 0s 100us/sample - loss: 0.0427 - accuracy: 0.9867\nEpoch 9/10\n150/150 [==============================] - 0s 66us/sample - loss: 0.0456 - accuracy: 0.9800\nEpoch 10/10\n150/150 [==============================] - 0s 133us/sample - loss: 0.0467 - accuracy: 0.9867\n"
    },
    {
     "output_type": "execute_result",
     "data": {
      "text/plain": "<tensorflow.python.keras.callbacks.History at 0x1ed25cb7988>"
     },
     "metadata": {},
     "execution_count": 24
    }
   ],
   "source": [
    "model.fit(독립, 종속, epochs=1000, verbose=0)\n",
    "model.fit(독립, 종속, epochs=10)"
   ]
  },
  {
   "cell_type": "code",
   "execution_count": 25,
   "metadata": {
    "tags": []
   },
   "outputs": [
    {
     "output_type": "stream",
     "name": "stdout",
     "text": "Model: \"model_5\"\n_________________________________________________________________\nLayer (type)                 Output Shape              Param #   \n=================================================================\ninput_6 (InputLayer)         [(None, 4)]               0         \n_________________________________________________________________\ndense_8 (Dense)              (None, 8)                 40        \n_________________________________________________________________\ndense_9 (Dense)              (None, 8)                 72        \n_________________________________________________________________\ndense_10 (Dense)             (None, 8)                 72        \n_________________________________________________________________\ndense_11 (Dense)             (None, 3)                 27        \n=================================================================\nTotal params: 211\nTrainable params: 211\nNon-trainable params: 0\n_________________________________________________________________\n"
    }
   ],
   "source": [
    "model.summary()"
   ]
  },
  {
   "cell_type": "code",
   "execution_count": 26,
   "metadata": {},
   "outputs": [
    {
     "output_type": "execute_result",
     "data": {
      "text/plain": "array([[9.3517147e-15, 2.7064711e-03, 9.9729353e-01],\n       [4.2474176e-14, 7.2456868e-03, 9.9275428e-01],\n       [7.7102489e-14, 1.0704624e-02, 9.8929530e-01],\n       [6.8299536e-15, 2.2139961e-03, 9.9778593e-01],\n       [4.4957663e-13, 3.3661664e-02, 9.6633834e-01]], dtype=float32)"
     },
     "metadata": {},
     "execution_count": 26
    }
   ],
   "source": [
    "model.predict(독립[-5:])"
   ]
  },
  {
   "cell_type": "code",
   "execution_count": 27,
   "metadata": {
    "tags": []
   },
   "outputs": [
    {
     "output_type": "stream",
     "name": "stdout",
     "text": "품종_setosa  품종_versicolor  품종_virginica\n145          0              0             1\n146          0              0             1\n147          0              0             1\n148          0              0             1\n149          0              0             1\n"
    }
   ],
   "source": [
    "print(종속[-5:])"
   ]
  },
  {
   "cell_type": "code",
   "execution_count": 28,
   "metadata": {},
   "outputs": [
    {
     "output_type": "execute_result",
     "data": {
      "text/plain": "[array([[-0.21971567,  0.1974951 , -0.04187313,  0.3150294 , -0.8304435 ,\n         -0.20050998, -0.1144633 ,  0.47710788],\n        [ 0.90698   ,  0.41172192, -0.6508556 ,  0.36876634,  0.06458566,\n         -0.7616662 ,  0.81382763,  0.456454  ],\n        [-0.30052254, -0.33298045,  0.36259484, -0.5951254 ,  1.1970859 ,\n          0.71319956, -0.3108917 , -0.9214839 ],\n        [-1.1853979 , -1.4280503 ,  1.3127724 , -1.0891556 ,  0.48121312,\n          1.0724573 , -1.3359412 , -0.89114165]], dtype=float32),\n array([ 0.7225872 ,  0.80827177, -0.87459445,  0.93599296, -0.77157664,\n        -0.7385952 ,  0.6785181 ,  0.6714959 ], dtype=float32),\n array([[-1.8183908 ,  1.2731571 , -1.9168793 ,  1.2629019 ,  1.523396  ,\n         -1.042054  ,  1.6246748 ,  0.96383506],\n        [-0.40050808,  0.68606305, -0.9317594 ,  1.8150822 ,  1.3509114 ,\n         -1.4066586 ,  1.5924014 ,  1.9677408 ],\n        [ 1.2865357 , -0.9745858 ,  1.5730358 , -1.007878  , -0.89218724,\n          0.51243895, -1.3086545 , -1.2317522 ],\n        [-1.0986501 ,  1.6002028 , -0.970718  ,  1.7385768 ,  1.2137293 ,\n         -0.7221419 ,  1.5822564 ,  1.9823813 ],\n        [ 1.6771487 , -1.4937979 ,  1.6504152 , -1.3584468 , -1.391342  ,\n          0.9870726 , -0.6774145 , -1.3885362 ],\n        [ 1.3152908 , -1.6143085 ,  1.4178114 , -0.8997537 , -0.86747307,\n          1.1585078 , -0.949616  , -0.53074664],\n        [-0.40752378,  1.0031692 , -0.39427415,  1.3115362 ,  1.5157344 ,\n         -0.61799383,  1.8511523 ,  0.7504247 ],\n        [-1.2424335 ,  1.0771178 , -1.1881956 ,  1.4796338 ,  1.8359172 ,\n         -1.9001766 ,  1.1391429 ,  1.5928798 ]], dtype=float32),\n array([ 0.28544927,  0.01804964,  0.635718  , -0.02074336, -0.05990182,\n         0.6500582 , -0.17040306, -0.27973834], dtype=float32),\n array([[-2.0557928 ,  5.5299215 ,  0.62302244, -5.535319  ,  0.5058195 ,\n          5.3053427 ,  0.34032956, -0.7679405 ],\n        [ 3.8522196 , -3.2886221 , -0.9654084 ,  3.041547  , -1.2956241 ,\n         -2.8193219 , -2.1066775 ,  2.3047452 ],\n        [-1.6650047 ,  5.672873  ,  0.5422003 , -6.027926  ,  0.80906844,\n          6.0282235 ,  1.0659302 , -0.5472596 ],\n        [ 1.2956367 , -0.10107332, -1.5602014 ,  0.16319863, -1.8191199 ,\n          0.11656696, -1.5285378 ,  1.8908805 ],\n        [ 1.0661917 , -0.33050597, -1.4233278 ,  0.05397748, -1.816165  ,\n         -0.68248713, -1.8082379 ,  1.2348442 ],\n        [-2.470181  ,  5.3050942 ,  0.76273924, -5.695449  ,  1.3290331 ,\n          4.9484625 ,  1.4917464 , -1.1889019 ],\n        [ 1.2531747 ,  0.30275527, -0.8785417 , -0.24488087, -1.7251687 ,\n         -0.4830957 , -1.6235262 ,  1.818938  ],\n        [ 1.771307  , -1.1977812 , -1.1976212 ,  1.0425615 , -2.041314  ,\n         -0.78670275, -2.1565006 ,  1.2717304 ]], dtype=float32),\n array([ 0.05551212,  1.4037827 ,  0.09751137, -0.8578092 ,  0.5339676 ,\n         1.4263833 ,  0.346747  , -0.34221414], dtype=float32),\n array([[ 4.136379  , -0.8057632 , -4.2981133 ],\n        [-7.5799055 ,  0.47695485, -0.16194963],\n        [-4.7778907 , -1.3509057 ,  1.4923824 ],\n        [ 8.17508   , -7.264941  , -5.7257133 ],\n        [-4.772494  , -1.4215642 ,  2.5356672 ],\n        [-6.8826876 ,  1.3487043 ,  0.7852565 ],\n        [-5.3462367 , -1.4698728 ,  2.446207  ],\n        [-0.16656469,  2.238643  , -2.519476  ]], dtype=float32),\n array([-0.83138895,  0.25782454, -0.436021  ], dtype=float32)]"
     },
     "metadata": {},
     "execution_count": 28
    }
   ],
   "source": [
    "# 학습한 가중치\n",
    "model.get_weights()"
   ]
  },
  {
   "cell_type": "code",
   "execution_count": null,
   "metadata": {},
   "outputs": [],
   "source": []
  }
 ]
}