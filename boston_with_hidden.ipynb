{
 "metadata": {
  "language_info": {
   "codemirror_mode": {
    "name": "ipython",
    "version": 3
   },
   "file_extension": ".py",
   "mimetype": "text/x-python",
   "name": "python",
   "nbconvert_exporter": "python",
   "pygments_lexer": "ipython3",
   "version": "3.7.7-final"
  },
  "orig_nbformat": 2,
  "kernelspec": {
   "name": "python37764bityahacconda48b7dfdddcbb4bafbaa7a551ffe8ffb3",
   "display_name": "Python 3.7.7 64-bit ('yahac': conda)"
  }
 },
 "nbformat": 4,
 "nbformat_minor": 2,
 "cells": [
  {
   "cell_type": "code",
   "execution_count": 2,
   "metadata": {
    "tags": []
   },
   "outputs": [],
   "source": [
    "# 1. 라이브러리 사용\n",
    "import pandas as pd\n",
    "import tensorflow as tf\n"
   ]
  },
  {
   "cell_type": "code",
   "execution_count": 3,
   "metadata": {
    "tags": []
   },
   "outputs": [
    {
     "output_type": "stream",
     "name": "stdout",
     "text": "Index(['crim', 'zn', 'indus', 'chas', 'nox', 'rm', 'age', 'dis', 'rad', 'tax',\n       'ptratio', 'b', 'lstat', 'medv'],\n      dtype='object')\n"
    },
    {
     "output_type": "execute_result",
     "data": {
      "text/plain": "      crim    zn  indus  chas    nox     rm   age     dis  rad  tax  ptratio  \\\n0  0.00632  18.0   2.31     0  0.538  6.575  65.2  4.0900    1  296     15.3   \n1  0.02731   0.0   7.07     0  0.469  6.421  78.9  4.9671    2  242     17.8   \n2  0.02729   0.0   7.07     0  0.469  7.185  61.1  4.9671    2  242     17.8   \n3  0.03237   0.0   2.18     0  0.458  6.998  45.8  6.0622    3  222     18.7   \n4  0.06905   0.0   2.18     0  0.458  7.147  54.2  6.0622    3  222     18.7   \n\n        b  lstat  medv  \n0  396.90   4.98  24.0  \n1  396.90   9.14  21.6  \n2  392.83   4.03  34.7  \n3  394.63   2.94  33.4  \n4  396.90   5.33  36.2  ",
      "text/html": "<div>\n<style scoped>\n    .dataframe tbody tr th:only-of-type {\n        vertical-align: middle;\n    }\n\n    .dataframe tbody tr th {\n        vertical-align: top;\n    }\n\n    .dataframe thead th {\n        text-align: right;\n    }\n</style>\n<table border=\"1\" class=\"dataframe\">\n  <thead>\n    <tr style=\"text-align: right;\">\n      <th></th>\n      <th>crim</th>\n      <th>zn</th>\n      <th>indus</th>\n      <th>chas</th>\n      <th>nox</th>\n      <th>rm</th>\n      <th>age</th>\n      <th>dis</th>\n      <th>rad</th>\n      <th>tax</th>\n      <th>ptratio</th>\n      <th>b</th>\n      <th>lstat</th>\n      <th>medv</th>\n    </tr>\n  </thead>\n  <tbody>\n    <tr>\n      <th>0</th>\n      <td>0.00632</td>\n      <td>18.0</td>\n      <td>2.31</td>\n      <td>0</td>\n      <td>0.538</td>\n      <td>6.575</td>\n      <td>65.2</td>\n      <td>4.0900</td>\n      <td>1</td>\n      <td>296</td>\n      <td>15.3</td>\n      <td>396.90</td>\n      <td>4.98</td>\n      <td>24.0</td>\n    </tr>\n    <tr>\n      <th>1</th>\n      <td>0.02731</td>\n      <td>0.0</td>\n      <td>7.07</td>\n      <td>0</td>\n      <td>0.469</td>\n      <td>6.421</td>\n      <td>78.9</td>\n      <td>4.9671</td>\n      <td>2</td>\n      <td>242</td>\n      <td>17.8</td>\n      <td>396.90</td>\n      <td>9.14</td>\n      <td>21.6</td>\n    </tr>\n    <tr>\n      <th>2</th>\n      <td>0.02729</td>\n      <td>0.0</td>\n      <td>7.07</td>\n      <td>0</td>\n      <td>0.469</td>\n      <td>7.185</td>\n      <td>61.1</td>\n      <td>4.9671</td>\n      <td>2</td>\n      <td>242</td>\n      <td>17.8</td>\n      <td>392.83</td>\n      <td>4.03</td>\n      <td>34.7</td>\n    </tr>\n    <tr>\n      <th>3</th>\n      <td>0.03237</td>\n      <td>0.0</td>\n      <td>2.18</td>\n      <td>0</td>\n      <td>0.458</td>\n      <td>6.998</td>\n      <td>45.8</td>\n      <td>6.0622</td>\n      <td>3</td>\n      <td>222</td>\n      <td>18.7</td>\n      <td>394.63</td>\n      <td>2.94</td>\n      <td>33.4</td>\n    </tr>\n    <tr>\n      <th>4</th>\n      <td>0.06905</td>\n      <td>0.0</td>\n      <td>2.18</td>\n      <td>0</td>\n      <td>0.458</td>\n      <td>7.147</td>\n      <td>54.2</td>\n      <td>6.0622</td>\n      <td>3</td>\n      <td>222</td>\n      <td>18.7</td>\n      <td>396.90</td>\n      <td>5.33</td>\n      <td>36.2</td>\n    </tr>\n  </tbody>\n</table>\n</div>"
     },
     "metadata": {},
     "execution_count": 3
    }
   ],
   "source": [
    "# 2. 과어의 데이터를 준비\n",
    "보스턴 = pd.read_csv('https://raw.githubusercontent.com/blackdew/tensorflow1/master/csv/boston.csv')\n",
    "print(보스턴.columns)\n",
    "보스턴.head()\n"
   ]
  },
  {
   "cell_type": "code",
   "execution_count": 4,
   "metadata": {
    "tags": []
   },
   "outputs": [
    {
     "output_type": "stream",
     "name": "stdout",
     "text": "(506, 13) (506, 1)\n"
    }
   ],
   "source": [
    "# 3. 독립변수, 종속변수 분리\n",
    "독립 = 보스턴[['crim', 'zn', 'indus', 'chas', 'nox', 'rm', 'age', 'dis', 'rad', 'tax',\n",
    "       'ptratio', 'b', 'lstat']]\n",
    "종속 = 보스턴[['medv']]\n",
    "print(독립.shape, 종속.shape)"
   ]
  },
  {
   "cell_type": "code",
   "execution_count": 5,
   "metadata": {},
   "outputs": [],
   "source": [
    "\n",
    "X = tf.keras.layers.Input(shape=[13])\n",
    "H = tf.keras.layers.Dense(10, activation = 'sigmoid')(X)\n",
    "Y = tf.keras.layers.Dense(1)(H)\n",
    "model = tf.keras.models.Model(X,Y)\n",
    "model.compile(loss='mse')"
   ]
  },
  {
   "cell_type": "code",
   "execution_count": 6,
   "metadata": {
    "tags": []
   },
   "outputs": [
    {
     "output_type": "stream",
     "name": "stdout",
     "text": "Train on 506 samples\nEpoch 1/10\n506/506 [==============================] - 0s 38us/sample - loss: 78.4761\nEpoch 2/10\n506/506 [==============================] - 0s 34us/sample - loss: 78.4742\nEpoch 3/10\n506/506 [==============================] - 0s 35us/sample - loss: 78.4728\nEpoch 4/10\n506/506 [==============================] - 0s 33us/sample - loss: 78.4708\nEpoch 5/10\n506/506 [==============================] - 0s 36us/sample - loss: 78.4692\nEpoch 6/10\n506/506 [==============================] - 0s 32us/sample - loss: 78.4636\nEpoch 7/10\n506/506 [==============================] - 0s 33us/sample - loss: 78.4682\nEpoch 8/10\n506/506 [==============================] - 0s 35us/sample - loss: 78.4567\nEpoch 9/10\n506/506 [==============================] - 0s 34us/sample - loss: 78.4585\nEpoch 10/10\n506/506 [==============================] - 0s 34us/sample - loss: 78.4542\n"
    },
    {
     "output_type": "execute_result",
     "data": {
      "text/plain": "<tensorflow.python.keras.callbacks.History at 0x1aff281c708>"
     },
     "metadata": {},
     "execution_count": 6
    }
   ],
   "source": [
    "model.fit(독립, 종속, epochs=1000, verbose=0)\n",
    "model.fit(독립, 종속, epochs=10)"
   ]
  },
  {
   "cell_type": "code",
   "execution_count": 7,
   "metadata": {},
   "outputs": [
    {
     "output_type": "execute_result",
     "data": {
      "text/plain": "array([[22.990635],\n       [22.990635],\n       [22.990635],\n       [22.990635],\n       [22.990635]], dtype=float32)"
     },
     "metadata": {},
     "execution_count": 7
    }
   ],
   "source": [
    "# 4. 모델을 이용합니다\n",
    "model.predict(독립[0:5]) #0부터 5번째꺼 까지만 사용"
   ]
  },
  {
   "cell_type": "code",
   "execution_count": 8,
   "metadata": {},
   "outputs": [
    {
     "output_type": "execute_result",
     "data": {
      "text/plain": "   medv\n0  24.0\n1  21.6\n2  34.7\n3  33.4\n4  36.2",
      "text/html": "<div>\n<style scoped>\n    .dataframe tbody tr th:only-of-type {\n        vertical-align: middle;\n    }\n\n    .dataframe tbody tr th {\n        vertical-align: top;\n    }\n\n    .dataframe thead th {\n        text-align: right;\n    }\n</style>\n<table border=\"1\" class=\"dataframe\">\n  <thead>\n    <tr style=\"text-align: right;\">\n      <th></th>\n      <th>medv</th>\n    </tr>\n  </thead>\n  <tbody>\n    <tr>\n      <th>0</th>\n      <td>24.0</td>\n    </tr>\n    <tr>\n      <th>1</th>\n      <td>21.6</td>\n    </tr>\n    <tr>\n      <th>2</th>\n      <td>34.7</td>\n    </tr>\n    <tr>\n      <th>3</th>\n      <td>33.4</td>\n    </tr>\n    <tr>\n      <th>4</th>\n      <td>36.2</td>\n    </tr>\n  </tbody>\n</table>\n</div>"
     },
     "metadata": {},
     "execution_count": 8
    }
   ],
   "source": [
    "종속[0:5]"
   ]
  },
  {
   "cell_type": "code",
   "execution_count": 9,
   "metadata": {},
   "outputs": [
    {
     "output_type": "execute_result",
     "data": {
      "text/plain": "[array([[-0.20296833,  0.302907  , -0.38027793, -0.04747543,  0.24198836,\n         -0.12745932, -0.3489979 ,  0.537311  ,  0.24245481, -0.03670207],\n        [ 0.28830856,  0.27757096,  0.41213602,  0.00494949,  0.3040496 ,\n         -0.30502075,  0.39729944, -0.18873708, -0.17819075, -0.3540235 ],\n        [ 0.00579894,  0.4928139 ,  0.49267238,  0.25834942,  0.36337483,\n          0.28540707,  0.56146485, -0.09077232, -0.15584998,  0.37781748],\n        [ 0.32983375,  0.0132578 , -0.26301432,  0.37427866, -0.3790596 ,\n         -0.3895673 , -0.06932017, -0.48468813,  0.21832864,  0.11388682],\n        [ 0.31774896,  0.38786244,  0.32776845,  0.08676157, -0.29329386,\n          0.08152717, -0.15011768,  0.38623604,  0.21123295, -0.11724237],\n        [-0.2510242 ,  0.3278252 , -0.04860687,  0.24198201, -0.18194455,\n          0.07292002, -0.13610262,  0.26226383,  0.5617522 , -0.29029956],\n        [-0.10582325, -0.30600518,  0.4615506 ,  0.39220858, -0.12203017,\n          0.30457032,  0.22835031, -0.2991234 , -0.16198853,  0.00398437],\n        [-0.23388985,  0.18878895,  0.27064025,  0.09305337, -0.20114478,\n          0.18005854, -0.07515416,  0.2450703 , -0.00199764,  0.17860605],\n        [-0.10423058,  0.16769612, -0.18849021,  0.13520686, -0.22250926,\n          0.42621058, -0.09212528,  0.27521816,  0.17550443,  0.05417202],\n        [-0.09721133, -0.33493263,  0.09482288,  0.16348968, -0.20177555,\n          0.46886116,  0.60966146, -0.18264215,  0.62362903,  0.6882682 ],\n        [ 0.19701546,  0.47960335,  0.44349885, -0.24133657, -0.44329533,\n          0.10211903,  0.32759935,  0.54204583,  0.58231634, -0.15557021],\n        [-0.10673997, -0.09639689,  0.176799  , -0.05936655, -0.46728903,\n          0.23589486, -0.30263355,  0.8437468 , -0.23762272, -0.2124189 ],\n        [-0.26499912,  0.16514957,  0.18420768,  0.24483454, -0.39580572,\n          0.32305658,  0.1096052 , -0.5005534 , -0.24104315,  0.650643  ]],\n       dtype=float32),\n array([ 1.2426313e-10, -6.8344384e-25,  0.0000000e+00,  9.9564008e-02,\n         0.0000000e+00,  0.0000000e+00,  1.4984648e-01,  1.3745891e-01,\n         2.4772464e-01,  2.0900457e-01], dtype=float32),\n array([[ 0.5076596 ],\n        [-0.41837245],\n        [ 1.849374  ],\n        [ 2.6829438 ],\n        [-0.12140185],\n        [ 1.7516959 ],\n        [ 2.9169745 ],\n        [ 5.8530293 ],\n        [ 2.9668508 ],\n        [ 2.7132888 ]], dtype=float32),\n array([2.2564774], dtype=float32)]"
     },
     "metadata": {},
     "execution_count": 9
    }
   ],
   "source": [
    "# 모델의 수식 확인\n",
    "model.get_weights()"
   ]
  },
  {
   "cell_type": "markdown",
   "metadata": {},
   "source": [
    "집값 = (-0.08651684) * x1 + (0.07189164) * x2 + (-0.06038664) * x3 + (3.4076278) * x4 + (2.2895515) * x5 + (4.063025) * x6 + ( 0.01262974) * x7 + (-0.9196257) * x8 + ( 0.15328875) * x9 + (-0.00901258) * x10 + (-0.02254527) * x11 + (0.01538731) * x12 + (-0.5722061) * x13"
   ]
  },
  {
   "cell_type": "code",
   "execution_count": null,
   "metadata": {},
   "outputs": [],
   "source": []
  }
 ]
}