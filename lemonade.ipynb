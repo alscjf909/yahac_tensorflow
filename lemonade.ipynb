{
 "metadata": {
  "language_info": {
   "codemirror_mode": {
    "name": "ipython",
    "version": 3
   },
   "file_extension": ".py",
   "mimetype": "text/x-python",
   "name": "python",
   "nbconvert_exporter": "python",
   "pygments_lexer": "ipython3",
   "version": "3.7.7-final"
  },
  "orig_nbformat": 2,
  "kernelspec": {
   "name": "python37764bityahacconda48b7dfdddcbb4bafbaa7a551ffe8ffb3",
   "display_name": "Python 3.7.7 64-bit ('yahac': conda)"
  }
 },
 "nbformat": 4,
 "nbformat_minor": 2,
 "cells": [
  {
   "cell_type": "code",
   "execution_count": 2,
   "metadata": {},
   "outputs": [],
   "source": [
    "import pandas as pd\n",
    "import tensorflow as tf"
   ]
  },
  {
   "cell_type": "code",
   "execution_count": 12,
   "metadata": {},
   "outputs": [
    {
     "output_type": "execute_result",
     "data": {
      "text/plain": "   온도  판매량\n0  20   40\n1  21   42\n2  22   44\n3  23   46\n4  24   48",
      "text/html": "<div>\n<style scoped>\n    .dataframe tbody tr th:only-of-type {\n        vertical-align: middle;\n    }\n\n    .dataframe tbody tr th {\n        vertical-align: top;\n    }\n\n    .dataframe thead th {\n        text-align: right;\n    }\n</style>\n<table border=\"1\" class=\"dataframe\">\n  <thead>\n    <tr style=\"text-align: right;\">\n      <th></th>\n      <th>온도</th>\n      <th>판매량</th>\n    </tr>\n  </thead>\n  <tbody>\n    <tr>\n      <th>0</th>\n      <td>20</td>\n      <td>40</td>\n    </tr>\n    <tr>\n      <th>1</th>\n      <td>21</td>\n      <td>42</td>\n    </tr>\n    <tr>\n      <th>2</th>\n      <td>22</td>\n      <td>44</td>\n    </tr>\n    <tr>\n      <th>3</th>\n      <td>23</td>\n      <td>46</td>\n    </tr>\n    <tr>\n      <th>4</th>\n      <td>24</td>\n      <td>48</td>\n    </tr>\n  </tbody>\n</table>\n</div>"
     },
     "metadata": {},
     "execution_count": 12
    }
   ],
   "source": [
    "# 데이터 준비\n",
    "\n",
    "파일경로 = 'https://raw.githubusercontent.com/blackdew/tensorflow1/master/csv/lemonade.csv'\n",
    "레모네이드 = pd.read_csv(파일경로)\n",
    "레모네이드.head()"
   ]
  },
  {
   "cell_type": "code",
   "execution_count": 16,
   "metadata": {
    "tags": []
   },
   "outputs": [
    {
     "output_type": "stream",
     "name": "stdout",
     "text": "(6, 1) (6, 1)\n"
    }
   ],
   "source": [
    "# 종속변수, 독립변수\n",
    "독립 = 레모네이드[['온도']]\n",
    "종속 = 레모네이드[['판매량']]\n",
    "print(독립.shape, 종속.shape)"
   ]
  },
  {
   "cell_type": "code",
   "execution_count": 17,
   "metadata": {},
   "outputs": [],
   "source": [
    "# 모델을 만듭니다.\n",
    "X = tf.keras.layers.Input(shape=[1]) #독립변수의 columns의 수 \n",
    "Y = tf.keras.layers.Dense(1)(X) # 종속변수의 columns의 수\n",
    "model = tf.keras.models.Model(X, Y)\n",
    "model.compile(loss='mse')"
   ]
  },
  {
   "cell_type": "code",
   "execution_count": 23,
   "metadata": {
    "tags": []
   },
   "outputs": [
    {
     "output_type": "stream",
     "name": "stdout",
     "text": "Train on 6 samples\nEpoch 1/10\n6/6 [==============================] - 0s 676us/sample - loss: 1.3887e-04\nEpoch 2/10\n6/6 [==============================] - 0s 167us/sample - loss: 1.3897e-04\nEpoch 3/10\n6/6 [==============================] - 0s 166us/sample - loss: 1.3902e-04\nEpoch 4/10\n6/6 [==============================] - 0s 252us/sample - loss: 1.3891e-04\nEpoch 5/10\n6/6 [==============================] - 0s 166us/sample - loss: 1.3891e-04\nEpoch 6/10\n6/6 [==============================] - 0s 665us/sample - loss: 1.3888e-04\nEpoch 7/10\n6/6 [==============================] - 0s 333us/sample - loss: 1.3882e-04\nEpoch 8/10\n6/6 [==============================] - 0s 166us/sample - loss: 1.3876e-04\nEpoch 9/10\n6/6 [==============================] - 0s 167us/sample - loss: 1.3870e-04\nEpoch 10/10\n6/6 [==============================] - 0s 499us/sample - loss: 1.3878e-04\n"
    },
    {
     "output_type": "execute_result",
     "data": {
      "text/plain": "<tensorflow.python.keras.callbacks.History at 0x1c6563804c8>"
     },
     "metadata": {},
     "execution_count": 23
    }
   ],
   "source": [
    "# 모델을 학습합니다.\n",
    "model.fit(독립, 종속, epochs=10) # epochs 훈련 횟수, verbose= 출력화면 끄기"
   ]
  },
  {
   "cell_type": "code",
   "execution_count": 24,
   "metadata": {},
   "outputs": [
    {
     "output_type": "execute_result",
     "data": {
      "text/plain": "array([[40.01072 ],\n       [42.011135],\n       [44.01155 ],\n       [46.011963],\n       [48.01238 ],\n       [50.012794]], dtype=float32)"
     },
     "metadata": {},
     "execution_count": 24
    }
   ],
   "source": [
    "#모델을 이용합니다.\n",
    "model.predict(독립)"
   ]
  },
  {
   "cell_type": "code",
   "execution_count": 25,
   "metadata": {},
   "outputs": [
    {
     "output_type": "execute_result",
     "data": {
      "text/plain": "array([[30.008652]], dtype=float32)"
     },
     "metadata": {},
     "execution_count": 25
    }
   ],
   "source": [
    "model.predict([[15]])"
   ]
  },
  {
   "cell_type": "code",
   "execution_count": null,
   "metadata": {},
   "outputs": [],
   "source": []
  }
 ]
}