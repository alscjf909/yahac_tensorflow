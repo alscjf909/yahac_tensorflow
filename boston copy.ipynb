{
 "metadata": {
  "language_info": {
   "codemirror_mode": {
    "name": "ipython",
    "version": 3
   },
   "file_extension": ".py",
   "mimetype": "text/x-python",
   "name": "python",
   "nbconvert_exporter": "python",
   "pygments_lexer": "ipython3",
   "version": "3.7.7-final"
  },
  "orig_nbformat": 2,
  "kernelspec": {
   "name": "python37764bityahacconda48b7dfdddcbb4bafbaa7a551ffe8ffb3",
   "display_name": "Python 3.7.7 64-bit ('yahac': conda)"
  }
 },
 "nbformat": 4,
 "nbformat_minor": 2,
 "cells": [
  {
   "cell_type": "code",
   "execution_count": 20,
   "metadata": {
    "tags": []
   },
   "outputs": [],
   "source": [
    "# 1. 라이브러리 사용\n",
    "import pandas as pd\n",
    "import tensorflow as tf\n"
   ]
  },
  {
   "cell_type": "code",
   "execution_count": 21,
   "metadata": {
    "tags": []
   },
   "outputs": [
    {
     "output_type": "stream",
     "name": "stdout",
     "text": "Index(['crim', 'zn', 'indus', 'chas', 'nox', 'rm', 'age', 'dis', 'rad', 'tax',\n       'ptratio', 'b', 'lstat', 'medv'],\n      dtype='object')\n"
    },
    {
     "output_type": "execute_result",
     "data": {
      "text/plain": "      crim    zn  indus  chas    nox     rm   age     dis  rad  tax  ptratio  \\\n0  0.00632  18.0   2.31     0  0.538  6.575  65.2  4.0900    1  296     15.3   \n1  0.02731   0.0   7.07     0  0.469  6.421  78.9  4.9671    2  242     17.8   \n2  0.02729   0.0   7.07     0  0.469  7.185  61.1  4.9671    2  242     17.8   \n3  0.03237   0.0   2.18     0  0.458  6.998  45.8  6.0622    3  222     18.7   \n4  0.06905   0.0   2.18     0  0.458  7.147  54.2  6.0622    3  222     18.7   \n\n        b  lstat  medv  \n0  396.90   4.98  24.0  \n1  396.90   9.14  21.6  \n2  392.83   4.03  34.7  \n3  394.63   2.94  33.4  \n4  396.90   5.33  36.2  ",
      "text/html": "<div>\n<style scoped>\n    .dataframe tbody tr th:only-of-type {\n        vertical-align: middle;\n    }\n\n    .dataframe tbody tr th {\n        vertical-align: top;\n    }\n\n    .dataframe thead th {\n        text-align: right;\n    }\n</style>\n<table border=\"1\" class=\"dataframe\">\n  <thead>\n    <tr style=\"text-align: right;\">\n      <th></th>\n      <th>crim</th>\n      <th>zn</th>\n      <th>indus</th>\n      <th>chas</th>\n      <th>nox</th>\n      <th>rm</th>\n      <th>age</th>\n      <th>dis</th>\n      <th>rad</th>\n      <th>tax</th>\n      <th>ptratio</th>\n      <th>b</th>\n      <th>lstat</th>\n      <th>medv</th>\n    </tr>\n  </thead>\n  <tbody>\n    <tr>\n      <th>0</th>\n      <td>0.00632</td>\n      <td>18.0</td>\n      <td>2.31</td>\n      <td>0</td>\n      <td>0.538</td>\n      <td>6.575</td>\n      <td>65.2</td>\n      <td>4.0900</td>\n      <td>1</td>\n      <td>296</td>\n      <td>15.3</td>\n      <td>396.90</td>\n      <td>4.98</td>\n      <td>24.0</td>\n    </tr>\n    <tr>\n      <th>1</th>\n      <td>0.02731</td>\n      <td>0.0</td>\n      <td>7.07</td>\n      <td>0</td>\n      <td>0.469</td>\n      <td>6.421</td>\n      <td>78.9</td>\n      <td>4.9671</td>\n      <td>2</td>\n      <td>242</td>\n      <td>17.8</td>\n      <td>396.90</td>\n      <td>9.14</td>\n      <td>21.6</td>\n    </tr>\n    <tr>\n      <th>2</th>\n      <td>0.02729</td>\n      <td>0.0</td>\n      <td>7.07</td>\n      <td>0</td>\n      <td>0.469</td>\n      <td>7.185</td>\n      <td>61.1</td>\n      <td>4.9671</td>\n      <td>2</td>\n      <td>242</td>\n      <td>17.8</td>\n      <td>392.83</td>\n      <td>4.03</td>\n      <td>34.7</td>\n    </tr>\n    <tr>\n      <th>3</th>\n      <td>0.03237</td>\n      <td>0.0</td>\n      <td>2.18</td>\n      <td>0</td>\n      <td>0.458</td>\n      <td>6.998</td>\n      <td>45.8</td>\n      <td>6.0622</td>\n      <td>3</td>\n      <td>222</td>\n      <td>18.7</td>\n      <td>394.63</td>\n      <td>2.94</td>\n      <td>33.4</td>\n    </tr>\n    <tr>\n      <th>4</th>\n      <td>0.06905</td>\n      <td>0.0</td>\n      <td>2.18</td>\n      <td>0</td>\n      <td>0.458</td>\n      <td>7.147</td>\n      <td>54.2</td>\n      <td>6.0622</td>\n      <td>3</td>\n      <td>222</td>\n      <td>18.7</td>\n      <td>396.90</td>\n      <td>5.33</td>\n      <td>36.2</td>\n    </tr>\n  </tbody>\n</table>\n</div>"
     },
     "metadata": {},
     "execution_count": 21
    }
   ],
   "source": [
    "# 2. 과어의 데이터를 준비\n",
    "보스턴 = pd.read_csv('https://raw.githubusercontent.com/blackdew/tensorflow1/master/csv/boston.csv')\n",
    "print(보스턴.columns)\n",
    "보스턴.head()\n"
   ]
  },
  {
   "cell_type": "code",
   "execution_count": 22,
   "metadata": {
    "tags": []
   },
   "outputs": [
    {
     "output_type": "stream",
     "name": "stdout",
     "text": "(506, 13) (506, 1)\n"
    }
   ],
   "source": [
    "# 3. 독립변수, 종속변수 분리\n",
    "독립 = 보스턴[['crim', 'zn', 'indus', 'chas', 'nox', 'rm', 'age', 'dis', 'rad', 'tax',\n",
    "       'ptratio', 'b', 'lstat']]\n",
    "종속 = 보스턴[['medv']]\n",
    "print(독립.shape, 종속.shape)"
   ]
  },
  {
   "cell_type": "code",
   "execution_count": 32,
   "metadata": {},
   "outputs": [],
   "source": [
    "\n",
    "X = tf.keras.layers.Input(shape=[13])\n",
    "H = tf.keras.layers.Dense(10, activation = 'sigmoid')(X)\n",
    "Y = tf.keras.layers.Dense(1)(H)\n",
    "model = tf.keras.models.Model(X,Y)\n",
    "model.compile(loss='mse')"
   ]
  },
  {
   "cell_type": "code",
   "execution_count": 33,
   "metadata": {
    "tags": []
   },
   "outputs": [
    {
     "output_type": "stream",
     "name": "stdout",
     "text": "Model: \"model_3\"\n_________________________________________________________________\nLayer (type)                 Output Shape              Param #   \n=================================================================\ninput_9 (InputLayer)         [(None, 13)]              0         \n_________________________________________________________________\ndense_11 (Dense)             (None, 10)                140       \n_________________________________________________________________\ndense_12 (Dense)             (None, 1)                 11        \n=================================================================\nTotal params: 151\nTrainable params: 151\nNon-trainable params: 0\n_________________________________________________________________\n"
    }
   ],
   "source": [
    "model.summary()"
   ]
  },
  {
   "cell_type": "code",
   "execution_count": 24,
   "metadata": {
    "tags": []
   },
   "outputs": [
    {
     "output_type": "stream",
     "name": "stdout",
     "text": "Train on 506 samples\nEpoch 1/10\n506/506 [==============================] - 0s 41us/sample - loss: 78.2442\nEpoch 2/10\n506/506 [==============================] - 0s 41us/sample - loss: 78.2348\nEpoch 3/10\n506/506 [==============================] - 0s 47us/sample - loss: 78.2371\nEpoch 4/10\n506/506 [==============================] - 0s 39us/sample - loss: 78.2342\nEpoch 5/10\n506/506 [==============================] - 0s 45us/sample - loss: 78.2291\nEpoch 6/10\n506/506 [==============================] - 0s 45us/sample - loss: 78.2306\nEpoch 7/10\n506/506 [==============================] - 0s 34us/sample - loss: 78.2268\nEpoch 8/10\n506/506 [==============================] - 0s 40us/sample - loss: 78.2243\nEpoch 9/10\n506/506 [==============================] - 0s 39us/sample - loss: 78.2263\nEpoch 10/10\n506/506 [==============================] - 0s 47us/sample - loss: 78.2248\n"
    },
    {
     "output_type": "execute_result",
     "data": {
      "text/plain": "<tensorflow.python.keras.callbacks.History at 0x1e444eb8948>"
     },
     "metadata": {},
     "execution_count": 24
    }
   ],
   "source": [
    "model.fit(독립, 종속, epochs=1000, verbose=0)\n",
    "model.fit(독립, 종속, epochs=10)"
   ]
  },
  {
   "cell_type": "code",
   "execution_count": 25,
   "metadata": {},
   "outputs": [
    {
     "output_type": "execute_result",
     "data": {
      "text/plain": "array([[22.993021],\n       [22.993021],\n       [22.993021],\n       [22.993021],\n       [22.993021]], dtype=float32)"
     },
     "metadata": {},
     "execution_count": 25
    }
   ],
   "source": [
    "# 4. 모델을 이용합니다\n",
    "model.predict(독립[0:5]) #0부터 5번째꺼 까지만 사용"
   ]
  },
  {
   "cell_type": "code",
   "execution_count": 26,
   "metadata": {},
   "outputs": [
    {
     "output_type": "execute_result",
     "data": {
      "text/plain": "   medv\n0  24.0\n1  21.6\n2  34.7\n3  33.4\n4  36.2",
      "text/html": "<div>\n<style scoped>\n    .dataframe tbody tr th:only-of-type {\n        vertical-align: middle;\n    }\n\n    .dataframe tbody tr th {\n        vertical-align: top;\n    }\n\n    .dataframe thead th {\n        text-align: right;\n    }\n</style>\n<table border=\"1\" class=\"dataframe\">\n  <thead>\n    <tr style=\"text-align: right;\">\n      <th></th>\n      <th>medv</th>\n    </tr>\n  </thead>\n  <tbody>\n    <tr>\n      <th>0</th>\n      <td>24.0</td>\n    </tr>\n    <tr>\n      <th>1</th>\n      <td>21.6</td>\n    </tr>\n    <tr>\n      <th>2</th>\n      <td>34.7</td>\n    </tr>\n    <tr>\n      <th>3</th>\n      <td>33.4</td>\n    </tr>\n    <tr>\n      <th>4</th>\n      <td>36.2</td>\n    </tr>\n  </tbody>\n</table>\n</div>"
     },
     "metadata": {},
     "execution_count": 26
    }
   ],
   "source": [
    "종속[0:5]"
   ]
  },
  {
   "cell_type": "code",
   "execution_count": 27,
   "metadata": {},
   "outputs": [
    {
     "output_type": "execute_result",
     "data": {
      "text/plain": "[array([[ 0.45722753,  0.57616997,  0.09456629, -0.0187839 , -0.35900518,\n          0.1250108 ,  0.5103294 ,  0.2217387 , -0.26550728,  0.27812028],\n        [-0.08380166,  0.21950303,  0.48321813,  0.2276994 ,  0.03531813,\n         -0.09677421,  0.22335231,  0.07466501,  0.2077544 , -0.06103858],\n        [ 0.11933607, -0.17498137,  0.53659326,  0.22391659, -0.00438613,\n          0.36050525, -0.32034564, -0.15053776, -0.31802985,  0.50267714],\n        [-0.01984149, -0.17691265,  0.42297938, -0.10312694,  0.439511  ,\n         -2.1896715 ,  0.41371137, -0.13777423,  0.39665842,  0.18893969],\n        [-0.48971236, -0.26599008, -0.04081192, -0.4546227 , -0.35753036,\n         -0.58052474,  0.1911065 , -0.43088993,  0.32844588, -0.3667159 ],\n        [ 0.12209851, -0.01757694,  0.04060124,  0.04800212,  0.13568175,\n         -0.45556435, -0.07813177,  0.3920098 ,  0.35954407, -0.42177045],\n        [-0.2779374 ,  0.4292477 ,  0.47006643,  0.24428803, -0.47587526,\n          0.00389854, -0.3660844 ,  0.20964086, -0.53088325, -0.23704487],\n        [-0.47061262, -0.12626527, -0.21117279, -0.45157093,  0.02949211,\n         -0.6878137 ,  0.02036655, -0.2608711 , -0.39851764, -0.11610481],\n        [ 0.15192038, -0.2920193 ,  0.05499157, -0.25195575,  0.20966744,\n          0.9872105 , -0.25540182, -0.5106408 , -0.38041157,  0.11391145],\n        [-0.41830614,  0.1768144 ,  0.31897083,  0.29128957,  0.26057637,\n         -0.13507976, -0.11941472, -0.18390632, -0.21603134, -0.20281476],\n        [-0.25059798,  0.3598172 ,  0.40415886, -0.48734838,  0.24166898,\n         -0.4668283 , -0.27813455, -0.21705651, -0.62964   , -0.41004527],\n        [-0.25928175, -0.08223892, -0.18028787,  0.3476997 ,  0.02108194,\n          0.6514958 , -0.13076106, -0.37856972,  0.05187213,  0.02481192],\n        [-0.29277158,  0.5992989 ,  0.18866834, -0.12100837,  0.03991297,\n         -0.8109859 ,  0.19808471, -0.17584491, -0.58046305, -0.03493649]],\n       dtype=float32),\n array([ 0.00000000e+00,  2.03969046e-01,  1.22699805e-01,  0.00000000e+00,\n         2.65229754e-02, -1.28832564e-01,  2.69779354e-23,  0.00000000e+00,\n        -1.44059122e-01,  1.06245748e-13], dtype=float32),\n array([[ 0.2883969 ],\n        [ 3.4992783 ],\n        [ 3.440028  ],\n        [ 3.2267196 ],\n        [ 3.4595544 ],\n        [ 6.104042  ],\n        [ 0.54573244],\n        [-0.2712504 ],\n        [-0.14649719],\n        [ 0.33122736]], dtype=float32),\n array([3.2633998], dtype=float32)]"
     },
     "metadata": {},
     "execution_count": 27
    }
   ],
   "source": [
    "# 모델의 수식 확인\n",
    "model.get_weights()"
   ]
  },
  {
   "cell_type": "markdown",
   "metadata": {},
   "source": [
    "집값 = (-0.08651684) * x1 + (0.07189164) * x2 + (-0.06038664) * x3 + (3.4076278) * x4 + (2.2895515) * x5 + (4.063025) * x6 + ( 0.01262974) * x7 + (-0.9196257) * x8 + ( 0.15328875) * x9 + (-0.00901258) * x10 + (-0.02254527) * x11 + (0.01538731) * x12 + (-0.5722061) * x13"
   ]
  },
  {
   "cell_type": "code",
   "execution_count": 28,
   "metadata": {
    "tags": []
   },
   "outputs": [
    {
     "output_type": "stream",
     "name": "stdout",
     "text": "2.1.0\n"
    }
   ],
   "source": [
    "print(tf.__version__)"
   ]
  },
  {
   "cell_type": "code",
   "execution_count": null,
   "metadata": {},
   "outputs": [],
   "source": []
  }
 ]
}